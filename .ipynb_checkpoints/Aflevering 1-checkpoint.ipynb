{
 "cells": [
  {
   "cell_type": "markdown",
   "id": "4d97d917",
   "metadata": {},
   "source": [
    "## Aflevering 1"
   ]
  },
  {
   "cell_type": "raw",
   "id": "34bc7529",
   "metadata": {},
   "source": [
    "En nybagt student skal holde studenterfest for sin familie og venner. Studenten ønsker sig penge som gave, da hun ønsker at komme på en udenlandsrejse."
   ]
  },
  {
   "cell_type": "raw",
   "id": "97ba0819",
   "metadata": {},
   "source": [
    "a) Lav i næste celle en pseudokode, der afgør, om studenten får tilstrækkelig med penge i gaver til sin udenlandsrejse ved at indtaste de enkelte pengegaver og derefter sammenligne den samlede sum af pengegaver med prisen på rejsen"
   ]
  },
  {
   "cell_type": "raw",
   "id": "8c077ee4",
   "metadata": {
    "vscode": {
     "languageId": "raw"
    }
   },
   "source": [
    "pseudokode\n",
    "\n",
    "    \n",
    "    indlæs rejsens prisen\n",
    "    give et pengebeløb i gaver\n",
    "    hvis total modtagne penge er mindre end rejsens prisen\n",
    "        be om flere penge\n",
    "    skriv at der er penge nok til rejsen\n",
    "    ...\n",
    "    "
   ]
  },
  {
   "cell_type": "raw",
   "id": "9ec74c15",
   "metadata": {
    "vscode": {
     "languageId": "raw"
    }
   },
   "source": [
    "b) Lav et Scratch-projekt, der afgør, om studenten får tilstrækkelig med penge i gaver til sin udenlandsrejse\n",
    "c) Kopiér linket til det delte Scratch-projekt i nedenstående celle\n",
    "https://scratch.mit.edu/projects/1213087908"
   ]
  },
  {
   "cell_type": "markdown",
   "id": "1a180585",
   "metadata": {},
   "source": [
    "Link: "
   ]
  },
  {
   "cell_type": "raw",
   "id": "d847fb71",
   "metadata": {},
   "source": [
    "d) Lav i næste celle Python-funktionen, der afgør, om studenten får tilstrækkelig med penge i gaver til sin udenlandsrejse"
   ]
  },
  {
   "cell_type": "code",
   "execution_count": 3,
   "id": "bf82679e",
   "metadata": {},
   "outputs": [],
   "source": [
    "def studenterRejsen():\n",
    "    print('Indtast rejsens pris')\n",
    "    rejsePris = int(input())\n",
    "    print('Hvor meget vil du give i gave?')\n",
    "    pengeGave = int(input())\n",
    "    pengeBeløb = 0 + pengeGave\n",
    "    while pengeBeløb < rejsePris:\n",
    "        print('Jeg har ikke penge nok, vil du ikke give flere')\n",
    "        pengeBeløb += int(input())\n",
    "    print('Du har endelig penge nok til rejsen')\n",
    "    \n",
    "    \n",
    "   \n",
    "\n",
    " "
   ]
  },
  {
   "cell_type": "raw",
   "id": "3c336cbe",
   "metadata": {},
   "source": [
    "e) Test i næste celle, at funktionen pengeTilRejsen() fungerer"
   ]
  },
  {
   "cell_type": "code",
   "execution_count": 4,
   "id": "3f5ca2d2",
   "metadata": {},
   "outputs": [
    {
     "name": "stdout",
     "output_type": "stream",
     "text": [
      "Indtast rejsens pris\n",
      "Hvor meget vil du give i gave?\n"
     ]
    },
    {
     "ename": "ValueError",
     "evalue": "invalid literal for int() with base 10: ''",
     "output_type": "error",
     "traceback": [
      "\u001b[1;31m---------------------------------------------------------------------------\u001b[0m",
      "\u001b[1;31mValueError\u001b[0m                                Traceback (most recent call last)",
      "Cell \u001b[1;32mIn[4], line 1\u001b[0m\n\u001b[1;32m----> 1\u001b[0m studenterRejsen()\n",
      "Cell \u001b[1;32mIn[3], line 5\u001b[0m, in \u001b[0;36mstudenterRejsen\u001b[1;34m()\u001b[0m\n\u001b[0;32m      3\u001b[0m rejsePris \u001b[38;5;241m=\u001b[39m \u001b[38;5;28mint\u001b[39m(\u001b[38;5;28minput\u001b[39m())\n\u001b[0;32m      4\u001b[0m \u001b[38;5;28mprint\u001b[39m(\u001b[38;5;124m'\u001b[39m\u001b[38;5;124mHvor meget vil du give i gave?\u001b[39m\u001b[38;5;124m'\u001b[39m)\n\u001b[1;32m----> 5\u001b[0m pengeGave \u001b[38;5;241m=\u001b[39m \u001b[38;5;28mint\u001b[39m(\u001b[38;5;28minput\u001b[39m())\n\u001b[0;32m      6\u001b[0m pengeBeløb \u001b[38;5;241m=\u001b[39m \u001b[38;5;241m0\u001b[39m \u001b[38;5;241m+\u001b[39m pengeGave\n\u001b[0;32m      7\u001b[0m \u001b[38;5;28;01mwhile\u001b[39;00m pengeBeløb \u001b[38;5;241m<\u001b[39m rejsePris:\n",
      "\u001b[1;31mValueError\u001b[0m: invalid literal for int() with base 10: ''"
     ]
    }
   ],
   "source": [
    "studenterRejsen()"
   ]
  }
 ],
 "metadata": {
  "kernelspec": {
   "display_name": "base",
   "language": "python",
   "name": "python3"
  },
  "language_info": {
   "codemirror_mode": {
    "name": "ipython",
    "version": 3
   },
   "file_extension": ".py",
   "mimetype": "text/x-python",
   "name": "python",
   "nbconvert_exporter": "python",
   "pygments_lexer": "ipython3",
   "version": "3.13.5"
  }
 },
 "nbformat": 4,
 "nbformat_minor": 5
}
