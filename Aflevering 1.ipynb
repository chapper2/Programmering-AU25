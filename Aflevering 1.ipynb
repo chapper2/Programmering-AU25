{
 "cells": [
  {
   "cell_type": "markdown",
   "id": "4d97d917",
   "metadata": {},
   "source": [
    "## Aflevering 1"
   ]
  },
  {
   "cell_type": "raw",
   "id": "34bc7529",
   "metadata": {},
   "source": [
    "En nybagt student skal holde studenterfest for sin familie og venner. Studenten ønsker sig penge som gave, da hun ønsker at komme på en udenlandsrejse."
   ]
  },
  {
   "cell_type": "raw",
   "id": "97ba0819",
   "metadata": {},
   "source": [
    "a) Lav i næste celle en pseudokode, der afgør, om studenten får tilstrækkelig med penge i gaver til sin udenlandsrejse ved at indtaste de enkelte pengegaver og derefter sammenligne den samlede sum af pengegaver med prisen på rejsen"
   ]
  },
  {
   "cell_type": "raw",
   "id": "8c077ee4",
   "metadata": {},
   "source": [
    "pseudokode\n",
    "\n",
    "    ...\n",
    "    ...\n",
    "    ...\n",
    "    "
   ]
  },
  {
   "cell_type": "raw",
   "id": "9ec74c15",
   "metadata": {},
   "source": [
    "b) Lav et Scratch-projekt, der afgør, om studenten får tilstrækkelig med penge i gaver til sin udenlandsrejse\n",
    "c) Kopiér linket til det delte Scratch-projekt i nedenstående celle"
   ]
  },
  {
   "cell_type": "markdown",
   "id": "1a180585",
   "metadata": {},
   "source": [
    "Link: "
   ]
  },
  {
   "cell_type": "raw",
   "id": "d847fb71",
   "metadata": {},
   "source": [
    "d) Lav i næste celle Python-funktionen, der afgør, om studenten får tilstrækkelig med penge i gaver til sin udenlandsrejse"
   ]
  },
  {
   "cell_type": "code",
   "execution_count": null,
   "id": "bf82679e",
   "metadata": {},
   "outputs": [],
   "source": [
    "def pengeTilRejsen():\n",
    "    ...\n",
    "    ...\n",
    "    ...\n",
    "    "
   ]
  },
  {
   "cell_type": "raw",
   "id": "3c336cbe",
   "metadata": {},
   "source": [
    "e) Test i næste celle, at funktionen pengeTilRejsen() fungerer"
   ]
  },
  {
   "cell_type": "code",
   "execution_count": null,
   "id": "3f5ca2d2",
   "metadata": {},
   "outputs": [],
   "source": []
  }
 ],
 "metadata": {
  "kernelspec": {
   "display_name": "Python 3 (ipykernel)",
   "language": "python",
   "name": "python3"
  },
  "language_info": {
   "codemirror_mode": {
    "name": "ipython",
    "version": 3
   },
   "file_extension": ".py",
   "mimetype": "text/x-python",
   "name": "python",
   "nbconvert_exporter": "python",
   "pygments_lexer": "ipython3",
   "version": "3.11.5"
  }
 },
 "nbformat": 4,
 "nbformat_minor": 5
}
