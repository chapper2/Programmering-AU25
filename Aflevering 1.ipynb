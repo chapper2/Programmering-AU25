{
 "cells": [
  {
   "cell_type": "markdown",
   "id": "4d97d917",
   "metadata": {},
   "source": [
    "## Aflevering 1"
   ]
  },
  {
   "cell_type": "raw",
   "id": "34bc7529",
   "metadata": {},
   "source": [
    "En nybagt student skal holde studenterfest for sin familie og venner. Studenten ønsker sig penge som gave, da hun ønsker at komme på en udenlandsrejse."
   ]
  },
  {
   "cell_type": "raw",
   "id": "97ba0819",
   "metadata": {
    "vscode": {
     "languageId": "raw"
    }
   },
   "source": [
    "a) Lav i næste celle en pseudokode, der afgør, om studenten får tilstrækkelig med penge i gaver til sin udenlandsrejse ved at indtaste de enkelte pengegaver \n",
    "og derefter sammenligne den samlede sum af pengegaver med prisen på rejsen"
   ]
  },
  {
   "cell_type": "raw",
   "id": "8c077ee4",
   "metadata": {
    "vscode": {
     "languageId": "raw"
    }
   },
   "source": [
    "pseudokode\n",
    "\n",
    "    \n",
    "    bed student om rejsens pris og gem i rejseePris\n",
    "    bed om gave og gem i pengeGave\n",
    "    incrementer totalPenge med pengeGave\n",
    "    sålænge den totale mængde penge er mindre end rejsens pris \n",
    "            skriv at hvor mange penge studenten har \n",
    "            bed om gave og gem i pengeGave\n",
    "            incrementer pengeTotal med pengeGave\n",
    "            udskriv totalPenge \n",
    "    skriv at der er penge nok til rejsen\n",
    "    \n",
    "    "
   ]
  },
  {
   "cell_type": "raw",
   "id": "9ec74c15",
   "metadata": {
    "vscode": {
     "languageId": "raw"
    }
   },
   "source": [
    "b) Lav et Scratch-projekt, der afgør, om studenten får tilstrækkelig med penge i gaver til sin udenlandsrejse\n",
    "c) Kopiér linket til det delte Scratch-projekt i nedenstående celle\n",
    "\n",
    "https://scratch.mit.edu/projects/1215658738"
   ]
  },
  {
   "cell_type": "markdown",
   "id": "1a180585",
   "metadata": {},
   "source": [
    "Link: https://scratch.mit.edu/projects/1215658738"
   ]
  },
  {
   "cell_type": "raw",
   "id": "d847fb71",
   "metadata": {},
   "source": [
    "d) Lav i næste celle Python-funktionen, der afgør, om studenten får tilstrækkelig med penge i gaver til sin udenlandsrejse"
   ]
  },
  {
   "cell_type": "code",
   "execution_count": 11,
   "id": "bf82679e",
   "metadata": {},
   "outputs": [],
   "source": [
    "def studenterRejsen():\n",
    "    print('Indtast rejsens pris') \n",
    "    rejsePris = int(input())            # bed student om rejsens pris og gem i rejsePris \n",
    "    print('Hvor meget vil du give i gave?') \n",
    "    pengeGave = int(input())            #bed om gave og gem i pengeGave\n",
    "    pengeTotal =+ pengeGave             #incrementer totalPenge med pengeGave\n",
    "    while pengeTotal < rejsePris:       #sålænge den totale mængde penge er mindre end rejsens pris\n",
    "        print('Jeg har kun: '+ str(pengeTotal)+\" vil du give flere penge?\")  #skriv hvor mange penge studenten har           \n",
    "        pengeGave += int(input())       #bed om gave og gem i pengegave  \n",
    "        pengeTotal =+ pengeGave         #incrementer totalPenge med pengeGave     \n",
    "        print('Du har nu: '+ str(pengeTotal)) #udskriv totalPenge    \n",
    "    print('Du har endelig penge nok til rejsen') #skriv at der er penge nok til rejsen\n",
    "    \n",
    "     "
   ]
  },
  {
   "cell_type": "raw",
   "id": "3c336cbe",
   "metadata": {},
   "source": [
    "e) Test i næste celle, at funktionen pengeTilRejsen() fungerer"
   ]
  },
  {
   "cell_type": "code",
   "execution_count": 12,
   "id": "3f5ca2d2",
   "metadata": {},
   "outputs": [
    {
     "name": "stdout",
     "output_type": "stream",
     "text": [
      "Indtast rejsens pris\n",
      "Hvor meget vil du give i gave?\n",
      "Jeg har kun: 300 vil du give flere penge?\n",
      "Du har nu: 500\n",
      "Jeg har kun: 500 vil du give flere penge?\n",
      "Du har nu: 1000\n",
      "Du har endelig penge nok til rejsen\n"
     ]
    }
   ],
   "source": [
    "studenterRejsen()"
   ]
  }
 ],
 "metadata": {
  "kernelspec": {
   "display_name": ".venv",
   "language": "python",
   "name": "python3"
  },
  "language_info": {
   "codemirror_mode": {
    "name": "ipython",
    "version": 3
   },
   "file_extension": ".py",
   "mimetype": "text/x-python",
   "name": "python",
   "nbconvert_exporter": "python",
   "pygments_lexer": "ipython3",
   "version": "3.11.9"
  }
 },
 "nbformat": 4,
 "nbformat_minor": 5
}
