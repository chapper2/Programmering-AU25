{
 "cells": [
  {
   "cell_type": "markdown",
   "id": "3f92f5d2",
   "metadata": {},
   "source": [
    "# Kalender"
   ]
  },
  {
   "cell_type": "raw",
   "id": "338fab54",
   "metadata": {},
   "source": [
    "Den gregorianske kalender er opbygget med 12 måneder (januar, februar, marts, ... december), der har følgende antal dage 31, 28/29, 31, 30, 31, 30, 31, 31, 30, 31, 30, 31\n",
    "Februar har 29 dage, når det er skudår - og der gælder følgende regler om skudår:\n",
    "Hvert 4. år er der skudår, dvs når årstallet er deleligt med 4, men hvert 100. år, dvs når årstallet er deleligt med 100, er det alligevel ikke et skudår. Endeligt er det skudår hvert 400. år, dvs når årstallet er deleligt med 400.\n",
    "\n",
    "Vi skal lave et program, der ud fra en given (korrekt) dato kan bestemme datoen dagen efter og dagen før, og vi skal bruge et vigtigt princip indenfor udvikling af programmer - trinvis forbedring med udvidelse - idet vi udvikler programmet i flere trin:\n",
    "\n",
    "1 Alle 12 måneder har samme antal dage, nemlig 30\n",
    "2 De 12 måneder har forskellige antal dage 31, 28, 31, 30, 31, 30, 31, 31, 30, 31, 30, 31, dvs uden skudår\n",
    "3 Der er skudår hvert 4. år, dvs når årstallet er deleligt med 4\n",
    "4 Der er skudår hvert 4. år, men ikke skudår hvert 100. år, dvs når årstallet er deleligt med 100\n",
    "5 Der er skudår hvert 4. år, men ikke skudår hvert 100. år, dog alligevel hvert 400. år, dvs når årstallet er deleligt med 400\n"
   ]
  },
  {
   "cell_type": "markdown",
   "id": "92f0303c",
   "metadata": {},
   "source": [
    "## Opgave 1"
   ]
  },
  {
   "cell_type": "raw",
   "id": "c0799ba6",
   "metadata": {},
   "source": [
    "a) Lav en pseudokode, der ud fra en given dato bestemmer datoen for den efterfølgende dag, når vi går udfra, at    alle 12 måneder har 30 dage\n",
    "b) Lav tilsvarende en pseudokode, der ud fra en given dato bestemmer datoen for den foregående dag, når vi går udfra, at alle 12 måneder har 30 dage\n",
    "c) Lav et projekt i Scratch, der implementerer de to pseudokoder fra a) og b)\n",
    "d) Lav et program i Python, der implementerer de to pseudokoder fra a) og b)"
   ]
  },
  {
   "cell_type": "raw",
   "id": "6b2ac80e",
   "metadata": {
    "vscode": {
     "languageId": "raw"
    }
   },
   "source": [
    "bed brugeren om at indtaste et input: indtast dato i formatet D-M-Å eks. 09-03-25\n",
    "\n",
    "opret lokalvariabel dag som skal tage input int\n",
    "opret lokalvariabel måned som skal tage input int\n",
    "opret lokalvariabel år som skal tage input int\n",
    "\n",
    "opret liste dage med dagene 1-30\n",
    "opret liste måneder med 1-12\n",
    "opret liste årstal med 00-99\n",
    "\n",
    "print datoen før ved hjælp af listerne\n",
    "print datoen efter ved hjælp af listerne"
   ]
  },
  {
   "cell_type": "code",
   "execution_count": 8,
   "id": "12cf0f91",
   "metadata": {},
   "outputs": [
    {
     "name": "stdout",
     "output_type": "stream",
     "text": [
      "du skal skrive datoen i formatet DD-MM-ÅÅ\n",
      "Datoen før er: 29-11-25\n",
      "Datoen efter er: 1-12-25\n"
     ]
    }
   ],
   "source": [
    "def findDato():\n",
    "    print('du skal skrive datoen i formatet DD-MM-ÅÅ')\n",
    "    dag = int(input('Skriv dag her'))\n",
    "    måned = int(input('skriv måned her'))\n",
    "    år = int(input('skriv år her'))\n",
    "    dage = [1,2,3,4,5,6,7,8,9,10,11,12,13,14,15,16,17,18,19,20,21,22,23,24,25,26,27,28,29,30]\n",
    "    måneder = [1,2,3,4,5,6,7,8,9,10,11,12]\n",
    "    \n",
    "    if dag in range(2,30):\n",
    "        print(f'Datoen før er: {dage[dag-2]}-{måneder[måned-1]}-{år}')\n",
    "    elif dag == 30 and måned != 1 and måned != 12:\n",
    "        print(f'Datoen før er: {dage[dag-2]}-{måneder[måned-1]}-{år}')\n",
    "        print(f'Datoen efter er: {dage[0]}-{måneder[måned]}-{år}')\n",
    "        \n",
    "        \n",
    "findDato()"
   ]
  },
  {
   "cell_type": "markdown",
   "id": "8774f844",
   "metadata": {},
   "source": [
    "## Opgave 2"
   ]
  },
  {
   "cell_type": "raw",
   "id": "d8b32c0c",
   "metadata": {},
   "source": [
    "a) Lav en pseudokode, der ud fra en given dato bestemmer datoen for den efterfølgende dag, når vi går udfra, at de 12 måneder har hhv 31, 28, 31, 30, 31, 30, 31, 31, 30, 31, 30 og 31 dage, dvs ingen skudår\n",
    "b) Lav tilsvarende en pseudokode, der ud fra en given dato bestemmer datoen for den foregående dag, når vi går udfra, at de 12 måneder har hhv 31, 28, 31, 30, 31, 30, 31, 31, 30, 31, 30 og 31 dage, dvs ingen skudår\n",
    "c) Lav et projekt i Scratch, der implementerer de to pseudokoder fra a) og b)\n",
    "d) Lav et program i Python, der implementerer de to pseudokoder fra a) og b)"
   ]
  },
  {
   "cell_type": "markdown",
   "id": "71d923bb",
   "metadata": {},
   "source": [
    "## Opgave 3"
   ]
  },
  {
   "cell_type": "raw",
   "id": "a677c8a3",
   "metadata": {},
   "source": [
    "a) Lav en pseudokode, der ud fra en given dato bestemmer datoen for den efterfølgende dag, når vi går udfra, at de 12 måneder har hhv 31, 28/29, 31, 30, 31, 30, 31, 31, 30, 31, 30 og 31 dage med skudår hvert 4. år\n",
    "b) Lav tilsvarende en pseudokode, der ud fra en given dato bestemmer datoen for den foregående dag, når vi går udfra, at de 12 måneder har hhv 31, 28/29, 31, 30, 31, 30, 31, 31, 30, 31, 30 og 31 dage med skudår hvert 4. år\n",
    "c) Lav et projekt i Scratch, der implementerer de to pseudokoder fra a) og b)\n",
    "d) Lav et program i Python, der implementerer de to pseudokoder fra a) og b)"
   ]
  },
  {
   "cell_type": "markdown",
   "id": "583032a9",
   "metadata": {},
   "source": [
    "## Opgave 4"
   ]
  },
  {
   "cell_type": "raw",
   "id": "674cdf7c",
   "metadata": {},
   "source": [
    "a) Lav en pseudokode, der ud fra en given dato bestemmer datoen for den efterfølgende dag, når vi går udfra, at de 12 måneder har hhv 31, 28/29, 31, 30, 31, 30, 31, 31, 30, 31, 30 og 31 dage med skudår hvert 4. år, dog ikke hvert 100. år\n",
    "b) Lav tilsvarende en pseudokode, der ud fra en given dato bestemmer datoen for den foregående dag, når vi går udfra, at de 12 måneder har hhv 31, 28/29, 31, 30, 31, 30, 31, 31, 30, 31, 30 og 31 dage med skudår hvert 4. år, dog ikke hvert 100. år\n",
    "c) Lav et projekt i Scratch, der implementerer de to pseudokoder fra a) og b)\n",
    "d) Lav et program i Python, der implementerer de to pseudokoder fra a) og b)"
   ]
  },
  {
   "cell_type": "markdown",
   "id": "ad14f9fb",
   "metadata": {},
   "source": [
    "## Opgave 5"
   ]
  },
  {
   "cell_type": "raw",
   "id": "f1dc4f32",
   "metadata": {},
   "source": [
    "a) Lav en pseudokode, der ud fra en given dato bestemmer datoen for den efterfølgende dag, når vi går udfra, at de 12 måneder har hhv 31, 28/29, 31, 30, 31, 30, 31, 31, 30, 31, 30 og 31 dage med skudår hvert 4. år, dog ikke hvert 100. år, og så alligevel hvert 400. år\n",
    "b) Lav tilsvarende en pseudokode, der ud fra en given dato bestemmer datoen for den foregående dag, når vi går udfra, at de 12 måneder har hhv 31, 28/29, 31, 30, 31, 30, 31, 31, 30, 31, 30 og 31 dage med skudår hvert 4. år, dog ikke hvert 100. år, og så alligevel hvert 400. år\n",
    "c) Lav et projekt i Scratch, der implementerer de to pseudokoder fra a) og b)\n",
    "d) Lav et program i Python, der implementerer de to pseudokoder fra a) og b)"
   ]
  }
 ],
 "metadata": {
  "kernelspec": {
   "display_name": "base",
   "language": "python",
   "name": "python3"
  },
  "language_info": {
   "codemirror_mode": {
    "name": "ipython",
    "version": 3
   },
   "file_extension": ".py",
   "mimetype": "text/x-python",
   "name": "python",
   "nbconvert_exporter": "python",
   "pygments_lexer": "ipython3",
   "version": "3.13.5"
  }
 },
 "nbformat": 4,
 "nbformat_minor": 5
}
