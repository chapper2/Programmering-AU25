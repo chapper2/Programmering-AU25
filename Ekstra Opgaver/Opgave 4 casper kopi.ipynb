{
 "cells": [
  {
   "cell_type": "markdown",
   "id": "03942ec6",
   "metadata": {},
   "source": [
    "## Små opgaver med funktioner"
   ]
  },
  {
   "cell_type": "markdown",
   "id": "dc4a41ed",
   "metadata": {},
   "source": [
    "### Valutaomregner"
   ]
  },
  {
   "cell_type": "raw",
   "id": "8af5af6f",
   "metadata": {},
   "source": [
    "Opgave 1\n",
    "\n",
    "Vi skal lave en valutaomregner mellem danske kroner og euro, hvor 1 € svarer til 7,5 kr\n",
    "\n",
    "a) Lav i næste celle en Python-funktion kronerTilEuro(), der indlæser et beløb i danske kroner og returnerer beløbet i euro\n",
    "\n",
    "b) Test, at det fungerer"
   ]
  },
  {
   "cell_type": "code",
   "execution_count": 3,
   "id": "cbda21b8",
   "metadata": {},
   "outputs": [
    {
     "data": {
      "text/plain": [
       "33.333333333333336"
      ]
     },
     "execution_count": 3,
     "metadata": {},
     "output_type": "execute_result"
    }
   ],
   "source": [
    "def kronerTilEuro():\n",
    "    valuta = int(input('Indtast hvor mange danske kroner du vil have vekslet til euro'))\n",
    "    return (valuta/7.5)\n",
    "\n",
    "kronerTilEuro() # her testes funktionen"
   ]
  },
  {
   "cell_type": "raw",
   "id": "8715311e",
   "metadata": {},
   "source": [
    "c) Lav i næste celle en Python-funktion kronerTilEuro(...) med en formel parameter, der returnerer beløbet i euro\n",
    "\n",
    "d) Test, at det fungerer"
   ]
  },
  {
   "cell_type": "code",
   "execution_count": 4,
   "id": "523ca2a0",
   "metadata": {},
   "outputs": [
    {
     "data": {
      "text/plain": [
       "33.333333333333336"
      ]
     },
     "execution_count": 4,
     "metadata": {},
     "output_type": "execute_result"
    }
   ],
   "source": [
    "def kronerTilEuro(kroner):\n",
    "    return (kroner/7.5)\n",
    "\n",
    "kronerTilEuro(250) # her testes funktionen"
   ]
  },
  {
   "cell_type": "markdown",
   "id": "ceb50062",
   "metadata": {},
   "source": [
    "### En matematisk funktion"
   ]
  },
  {
   "cell_type": "raw",
   "id": "f1f7044b",
   "metadata": {},
   "source": [
    "Opgave 2\n",
    "\n",
    "Vi skal nu se, hvordan vi kan lave en matematisk funktion f(x) = 2x+1\n",
    "\n",
    "a) Lav i næste celle en Python-funktion f(), der indlæser en x-værdi og returnerer den tilhørende funktionsværdi\n",
    "\n",
    "b) Test, at det fungerer"
   ]
  },
  {
   "cell_type": "code",
   "execution_count": 5,
   "id": "fe58e654",
   "metadata": {},
   "outputs": [
    {
     "data": {
      "text/plain": [
       "45"
      ]
     },
     "execution_count": 5,
     "metadata": {},
     "output_type": "execute_result"
    }
   ],
   "source": [
    "def f():\n",
    "    x = int(input('indtast din x-værdi her'))\n",
    "    return 2*x+1\n",
    "    \n",
    "\n",
    "f() # her testes funktionen"
   ]
  },
  {
   "cell_type": "raw",
   "id": "d3765662",
   "metadata": {},
   "source": [
    "c) Lav i næste celle en Python-funktion f(...) med en formel parameter, der returnerer funktionsværdien\n",
    "\n",
    "d) Test, at det fungerer"
   ]
  },
  {
   "cell_type": "code",
   "execution_count": 6,
   "id": "33db3200",
   "metadata": {},
   "outputs": [
    {
     "data": {
      "text/plain": [
       "45"
      ]
     },
     "execution_count": 6,
     "metadata": {},
     "output_type": "execute_result"
    }
   ],
   "source": [
    "def f(x):\n",
    "    return 2*x+1\n",
    "    \n",
    "f(22)  # her testes funktionen"
   ]
  },
  {
   "cell_type": "markdown",
   "id": "460d4bed",
   "metadata": {},
   "source": [
    "### Gennemsnit"
   ]
  },
  {
   "cell_type": "raw",
   "id": "ce1298e6",
   "metadata": {},
   "source": [
    "Opgave 3\n",
    "\n",
    "Vi skal nu lave en funktion, der kan beregne gennemsnittet af to tal\n",
    "\n",
    "a) Lav i næste celle en Python-funktion gennemsnit(), der indlæser to tal og returnerer gennemsnittet af de to tal\n",
    "\n",
    "b) Test, at det fungerer"
   ]
  },
  {
   "cell_type": "code",
   "execution_count": 7,
   "id": "eb7ac1cd",
   "metadata": {},
   "outputs": [
    {
     "data": {
      "text/plain": [
       "10.0"
      ]
     },
     "execution_count": 7,
     "metadata": {},
     "output_type": "execute_result"
    }
   ],
   "source": [
    "def gennemsnit():\n",
    "    tal1 = int(input('indtast første tal'))\n",
    "    tal2 = int(input('indtat tal nummer to'))\n",
    "    return (tal1+tal2)/2\n",
    "    \n",
    "gennemsnit() # her testes funktionen"
   ]
  },
  {
   "cell_type": "raw",
   "id": "f742c26b",
   "metadata": {},
   "source": [
    "c) Lav i næste celle en Python-funktion gennemsnit(...) med to formelle parametre, der returnerer gennemsnittet af de to tal\n",
    "\n",
    "d) Test, at det fungerer"
   ]
  },
  {
   "cell_type": "code",
   "execution_count": 8,
   "id": "99e92f04",
   "metadata": {},
   "outputs": [
    {
     "data": {
      "text/plain": [
       "10.0"
      ]
     },
     "execution_count": 8,
     "metadata": {},
     "output_type": "execute_result"
    }
   ],
   "source": [
    "def gennemsnit(tal1, tal2):\n",
    "    return (tal1+tal2)/2\n",
    "    \n",
    "gennemsnit(10,10) # her testes funktionen"
   ]
  },
  {
   "cell_type": "markdown",
   "id": "881954bc",
   "metadata": {},
   "source": [
    "### Prisen for en taxatur"
   ]
  },
  {
   "cell_type": "raw",
   "id": "39a9938f",
   "metadata": {},
   "source": [
    "Opgave 4\n",
    "\n",
    "I en by er der en taxa, der har et startgebyr på 50 kr og en km-pris på 15 kr\n",
    "\n",
    "a) Lav i næste celle en Python-funktion taxaPris(), der indlæser antal kørte km og returnerer prisen for turen\n",
    "\n",
    "b) Test, at det fungerer"
   ]
  },
  {
   "cell_type": "code",
   "execution_count": 9,
   "id": "c0672f42",
   "metadata": {},
   "outputs": [
    {
     "data": {
      "text/plain": [
       "200"
      ]
     },
     "execution_count": 9,
     "metadata": {},
     "output_type": "execute_result"
    }
   ],
   "source": [
    "def taxaPris():\n",
    "    kmKørt = int(input('indtast antal kørt km'))\n",
    "    return kmKørt*15+50\n",
    "    \n",
    "taxaPris() # her testes funktionen"
   ]
  },
  {
   "cell_type": "raw",
   "id": "ccb2019b",
   "metadata": {},
   "source": [
    "c) Lav i næste celle en Python-funktion taxaPris(...) med en formel parameter, der returnerer prosen for turen\n",
    "\n",
    "d) Test, at det fungerer"
   ]
  },
  {
   "cell_type": "code",
   "execution_count": 10,
   "id": "dd917d0d",
   "metadata": {},
   "outputs": [
    {
     "data": {
      "text/plain": [
       "200"
      ]
     },
     "execution_count": 10,
     "metadata": {},
     "output_type": "execute_result"
    }
   ],
   "source": [
    "def taxaPris(kmKørt):\n",
    "    return kmKørt*15+50\n",
    "    \n",
    "taxaPris(10) # her testes funktionen"
   ]
  },
  {
   "cell_type": "raw",
   "id": "d02870e3",
   "metadata": {},
   "source": [
    "Prisen for en tur med taxa laves nu om, idet der tilføjes en minut-pris, nemlig 5 kr pr minut. Km-prisen ændres til 10 kr pr km, mens startgebyret fortsat er 50 kr\n",
    "\n",
    "d) Lav i næste celle en Python-funktion taxaPris(), der indlæser to tal og returnerer prisen for turen\n",
    "\n",
    "e) Test, at det fungerer"
   ]
  },
  {
   "cell_type": "code",
   "execution_count": 11,
   "id": "b6cd1a45",
   "metadata": {},
   "outputs": [
    {
     "data": {
      "text/plain": [
       "650"
      ]
     },
     "execution_count": 11,
     "metadata": {},
     "output_type": "execute_result"
    }
   ],
   "source": [
    "def taxaPris():\n",
    "    antalMin = int(input('Indtast hvor mange minutter du har kørt i taxa'))\n",
    "    kmKørt = int(input('indtast hvor mange kilometer du har kørt i taxa'))\n",
    "    \n",
    "    return (5*antalMin)+(10*kmKørt)+50\n",
    "    \n",
    "taxaPris() # her testes funktionen"
   ]
  },
  {
   "cell_type": "raw",
   "id": "98a21946",
   "metadata": {},
   "source": [
    "f) Lav i næste celle en Python-funktion taxaPris() med to formelle parametre, der returnerer prisen for turen\n",
    "\n",
    "e) Test, at det fungerer"
   ]
  },
  {
   "cell_type": "code",
   "execution_count": 12,
   "id": "7075bd99",
   "metadata": {},
   "outputs": [
    {
     "data": {
      "text/plain": [
       "350"
      ]
     },
     "execution_count": 12,
     "metadata": {},
     "output_type": "execute_result"
    }
   ],
   "source": [
    "def taxaPris(antalMin, kmKørt):\n",
    "    \n",
    "    return (5*antalMin)+(10*kmKørt)+50\n",
    "    \n",
    "taxaPris(20, 20) # her testes funktionen"
   ]
  }
 ],
 "metadata": {
  "kernelspec": {
   "display_name": "base",
   "language": "python",
   "name": "python3"
  },
  "language_info": {
   "codemirror_mode": {
    "name": "ipython",
    "version": 3
   },
   "file_extension": ".py",
   "mimetype": "text/x-python",
   "name": "python",
   "nbconvert_exporter": "python",
   "pygments_lexer": "ipython3",
   "version": "3.13.5"
  }
 },
 "nbformat": 4,
 "nbformat_minor": 5
}
