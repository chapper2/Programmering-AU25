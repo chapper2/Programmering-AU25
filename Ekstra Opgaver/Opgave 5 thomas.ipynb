{
 "cells": [
  {
   "cell_type": "markdown",
   "id": "d7dd76b0",
   "metadata": {},
   "source": [
    "# Udskrivning af lister"
   ]
  },
  {
   "cell_type": "markdown",
   "id": "8f3f644c",
   "metadata": {},
   "source": [
    "## Opgave 1"
   ]
  },
  {
   "cell_type": "raw",
   "id": "718130f8",
   "metadata": {},
   "source": [
    "a) Gennemgå og forstå pseudokoden i næste celle"
   ]
  },
  {
   "cell_type": "raw",
   "id": "9fd3598a",
   "metadata": {},
   "source": [
    "pseudokode\n",
    "\n",
    "sæt personer til listen Erik, Ida, Ole, Marie og Peter\n",
    "for hver person i personer\n",
    "    udskriv person"
   ]
  },
  {
   "cell_type": "raw",
   "id": "1e445cb0",
   "metadata": {},
   "source": [
    "b) Gør Python-koden færdig i næste celle ved at erstatte *** med noget, så det fungerer\n",
    "\n",
    "c) Tjek, at det fungerer"
   ]
  },
  {
   "cell_type": "code",
   "execution_count": 1,
   "id": "6d68b686",
   "metadata": {},
   "outputs": [
    {
     "name": "stdout",
     "output_type": "stream",
     "text": [
      "Erik\n",
      "Ida\n",
      "Ole\n",
      "Marie\n",
      "Peter\n"
     ]
    }
   ],
   "source": [
    "personer = ['Erik', 'Ida', 'Ole', 'Marie', 'Peter']\n",
    "for person in personer:\n",
    "    print(person)"
   ]
  },
  {
   "cell_type": "raw",
   "id": "e9ca3c73",
   "metadata": {},
   "source": [
    "Nu skal vi indføre en funktion til udskrift af personerne\n",
    "\n",
    "d) Gør Python-koden færdig i næste celle ved at erstatte *** med noget, der får det til at fungere\n",
    "\n",
    "e) Tjek, at det fungerer"
   ]
  },
  {
   "cell_type": "code",
   "execution_count": 3,
   "id": "a9aa1325",
   "metadata": {},
   "outputs": [
    {
     "name": "stdout",
     "output_type": "stream",
     "text": [
      "Erik\n",
      "Ida\n",
      "Ole\n",
      "Marie\n",
      "Peter\n"
     ]
    }
   ],
   "source": [
    "personer = ['Erik', 'Ida', 'Ole', 'Marie', 'Peter']\n",
    "\n",
    "def udskrivPersoner(liste):\n",
    "    for person in liste:\n",
    "        print(person)\n",
    "        \n",
    "udskrivPersoner(personer)"
   ]
  },
  {
   "cell_type": "raw",
   "id": "20afacc9",
   "metadata": {
    "vscode": {
     "languageId": "raw"
    }
   },
   "source": [
    "f) Udpeg en formel parameter i ovenstående celle\n",
    "\n",
    "liste er den variabel som funktionen skal modtage\n",
    "\n",
    "g) Udpeg en aktuel parameter i ovenstående celle\n",
    "\n",
    "personer er den konkrete variabel som vi aktuelt sender ind i funktionen\n",
    "\n",
    "h) Udpeg et funktionskald i ovenstående celle\n",
    "\n",
    "udskrivPersoner(personer)\n"
   ]
  },
  {
   "cell_type": "markdown",
   "id": "5fcf92ac",
   "metadata": {},
   "source": [
    "## Opgave 2"
   ]
  },
  {
   "cell_type": "raw",
   "id": "6f57cfbb",
   "metadata": {},
   "source": [
    "a) Gør pseudokoden nedenfor færdig ved at erstatte *** med passende ord"
   ]
  },
  {
   "cell_type": "raw",
   "id": "8e7ed4f3",
   "metadata": {
    "vscode": {
     "languageId": "raw"
    }
   },
   "source": [
    "pseudokode\n",
    "\n",
    "sæt tallene til listen 2, 7, 4, 12 og 9\n",
    "for hvert tal i listen tallene\n",
    "    udskriv tal"
   ]
  },
  {
   "cell_type": "raw",
   "id": "fb090f67",
   "metadata": {},
   "source": [
    "b) Gør Python-koden nedenfor færdig ved at erstatte *** med passende dele"
   ]
  },
  {
   "cell_type": "code",
   "execution_count": 4,
   "id": "fe8daab6",
   "metadata": {},
   "outputs": [
    {
     "name": "stdout",
     "output_type": "stream",
     "text": [
      "2\n",
      "7\n",
      "4\n",
      "12\n",
      "9\n"
     ]
    }
   ],
   "source": [
    "tallene = [2, 7, 4, 12, 9]\n",
    "for tal in tallene:\n",
    "    print(tal)"
   ]
  },
  {
   "cell_type": "raw",
   "id": "c186b233",
   "metadata": {},
   "source": [
    "Nu skal vi indføre en funktion til udskrift af tallene\n",
    "\n",
    "c) Gør Python-koden nedenfor færdig ved at erstatte *** med passende dele\n",
    "\n",
    "d) Tjek, at det fungerer"
   ]
  },
  {
   "cell_type": "code",
   "execution_count": 5,
   "id": "a1e3ce3b",
   "metadata": {},
   "outputs": [
    {
     "name": "stdout",
     "output_type": "stream",
     "text": [
      "2\n",
      "7\n",
      "4\n",
      "12\n",
      "9\n"
     ]
    }
   ],
   "source": [
    "tallene = [2, 7, 4, 12, 9]\n",
    "\n",
    "def udskrivTallene(liste):\n",
    "    for tal in liste:\n",
    "        print(tal)\n",
    "        \n",
    "udskrivTallene(tallene)"
   ]
  },
  {
   "cell_type": "markdown",
   "id": "ef40dabd",
   "metadata": {},
   "source": [
    "## Opgave 3"
   ]
  },
  {
   "cell_type": "raw",
   "id": "3fc6e603",
   "metadata": {
    "vscode": {
     "languageId": "raw"
    }
   },
   "source": [
    "I denne opgave skal vi generalisere i forhold til opgave 1 og 2, da vi skal kigge på den generelle situation, hvor vi har en liste, \n",
    "der skal udskrives - og det er helt underordnet, om der er tale om personer, tal eller noget \n",
    "helt tredje"
   ]
  },
  {
   "cell_type": "raw",
   "id": "4c575873",
   "metadata": {
    "vscode": {
     "languageId": "raw"
    }
   },
   "source": [
    "a) Gør pseudokoden nedenfor færdig ved at erstatte *** med passende ord, så der ikke refereres til konkrete lister, \n",
    "men i stedet i generelle vendinger"
   ]
  },
  {
   "cell_type": "raw",
   "id": "0ce491e2",
   "metadata": {
    "vscode": {
     "languageId": "raw"
    }
   },
   "source": [
    "pseudokode\n",
    "\n",
    "for hvert element i liste\n",
    "    udskriv element"
   ]
  },
  {
   "cell_type": "raw",
   "id": "bfa87cda",
   "metadata": {},
   "source": [
    "b) Lav den tilsvarende Python-kode i næste celle"
   ]
  },
  {
   "cell_type": "code",
   "execution_count": 6,
   "id": "67ca3798",
   "metadata": {},
   "outputs": [],
   "source": [
    "liste = []\n",
    "\n",
    "for element in liste:\n",
    "    print(element)"
   ]
  },
  {
   "cell_type": "raw",
   "id": "628d14b9",
   "metadata": {},
   "source": [
    "c) Lav en funktion i næste celle"
   ]
  },
  {
   "cell_type": "code",
   "execution_count": 7,
   "id": "2427fd77",
   "metadata": {},
   "outputs": [],
   "source": [
    "def udskrivListe(liste):\n",
    "    for element in liste:\n",
    "        print(element)"
   ]
  },
  {
   "cell_type": "raw",
   "id": "bc854799",
   "metadata": {},
   "source": [
    "d) Test, at den generelle version fungerer med forskellige typer af lister"
   ]
  },
  {
   "cell_type": "code",
   "execution_count": null,
   "id": "afae3909",
   "metadata": {},
   "outputs": [],
   "source": [
    "personer = ['Erik', 'Ida', 'Ole', 'Marie', 'Peter']\n",
    "tallene = [2, 7, 4, 12, 9]\n",
    "\n",
    "udskrivListe(personer)\n",
    "udskrivListe(tallene)\n",
    "..."
   ]
  }
 ],
 "metadata": {
  "kernelspec": {
   "display_name": "Python 3",
   "language": "python",
   "name": "python3"
  },
  "language_info": {
   "codemirror_mode": {
    "name": "ipython",
    "version": 3
   },
   "file_extension": ".py",
   "mimetype": "text/x-python",
   "name": "python",
   "nbconvert_exporter": "python",
   "pygments_lexer": "ipython3",
   "version": "3.13.7"
  }
 },
 "nbformat": 4,
 "nbformat_minor": 5
}
