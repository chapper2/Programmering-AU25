{
 "cells": [
  {
   "cell_type": "markdown",
   "id": "b599f363",
   "metadata": {},
   "source": [
    "## Tekstfiler"
   ]
  },
  {
   "cell_type": "raw",
   "id": "7b6f591a",
   "metadata": {},
   "source": [
    "a) Gennemgå nedenstående to pseudokoder"
   ]
  },
  {
   "cell_type": "raw",
   "id": "6a8d4265",
   "metadata": {},
   "source": [
    "pseudokoder\n",
    "\n",
    "gem et dictionary i en tekstfil\n",
    "    åbn en tekstfil, så der kan skrives i den\n",
    "        for hvert par af nøgle og værdi i dictionary\n",
    "           skriv i tekstfilen nøgle efterfulgt af værdi med et kolon imellem\n",
    "    udskriv at dictionary er gemt i tekstfilen\n",
    "    \n",
    "hent et dictionary fra en tekstfil\n",
    "    lav et tomt dictionary\n",
    "    åbn en tekstfil, så der kan læses i den\n",
    "        for hver linje i tekstfilen\n",
    "            del linjen op i to variable nøgle og værdi adskilt af kolon\n",
    "            tilføj parret af nøgle og værdi til dictionary\n",
    "    udskriv, at dictionary er hentet fra tekstfilen\n",
    "    udskriv dictionary"
   ]
  },
  {
   "cell_type": "raw",
   "id": "54fc1261",
   "metadata": {},
   "source": [
    "b) Indsæt korrekte koder og passende kommentarer, hvor der står ***, men læs lige først:\n",
    "- bemærk, at der er brugt en f-streng med \\n til sidst, hvilket medfører, at der skiftes linje, når der er skrevet i tekstfilen\n",
    "- både strip() og split() er metoder knyttet til strenge (googl' eventuelt)"
   ]
  },
  {
   "cell_type": "code",
   "execution_count": 23,
   "id": "25f18ef2",
   "metadata": {},
   "outputs": [],
   "source": [
    "def gemDict(dictionary, filnavn):\n",
    "    with open(filnavn, 'w') as fil: # Åben en fil til skrivning\n",
    "        for x,y in dictionary.items():\n",
    "            fil.write(f'{x,y}\\n')  # skriv i filen\n",
    "    print('Dictionary er gemt i filen')\n",
    "\n",
    "def hentDict(filnavn):\n",
    "    dictionary = {}  # Opret en tom dictionary\n",
    "    with open(filnavn, 'r') as fil:  # Åben filen til læsning\n",
    "        for linje in fil:\n",
    "            x, y = linje.strip().split(',')  # nøgle og værdi\n",
    "            dictionary[x] = y  # Tilføj til dictionary\n",
    "    print('Dictionary er indlæst fra filen:')\n",
    "    print(dictionary)\n",
    "\n",
    "def sortDict(dictionary):\n",
    "    sorted_dict = dict(sorted(dictionary.items()))\n",
    "    return sorted_dict"
   ]
  },
  {
   "cell_type": "raw",
   "id": "e15d63ee",
   "metadata": {},
   "source": [
    "c) Afprøv nedenfor funktionen gemDict(), men erstat *** med den korrekte aktuelle parameter"
   ]
  },
  {
   "cell_type": "code",
   "execution_count": 28,
   "id": "26c1068e",
   "metadata": {},
   "outputs": [
    {
     "name": "stdout",
     "output_type": "stream",
     "text": [
      "Dictionary er gemt i filen\n",
      "Dictionary er gemt i filen\n",
      "Dictionary er indlæst fra filen:\n",
      "{\"('bord'\": \" 'table')\", \"('hvid'\": \" 'white')\", \"('bold'\": \" 'ball')\", \"('hest'\": \" 'horse')\"}\n",
      "Dictionary er indlæst fra filen:\n",
      "{\"('bold'\": \" 'ball')\", \"('bord'\": \" 'table')\", \"('hest'\": \" 'horse')\", \"('hvid'\": \" 'white')\"}\n"
     ]
    }
   ],
   "source": [
    "danskEngelsk = {'bord': 'table', 'hvid': 'white', 'bold': 'ball','hest': 'horse'}\n",
    "sortDict(danskEngelsk)\n",
    "gemDict(danskEngelsk, 'daenRune.txt')\n",
    "gemDict(sortDict(danskEngelsk), 'daenRuneSorteret.txt')\n",
    "hentDict('daenRune.txt')\n",
    "hentDict('daenRuneSorteret.txt')\n"
   ]
  },
  {
   "cell_type": "code",
   "execution_count": null,
   "id": "ea22df4e",
   "metadata": {},
   "outputs": [],
   "source": []
  },
  {
   "cell_type": "code",
   "execution_count": null,
   "id": "a820171e",
   "metadata": {},
   "outputs": [],
   "source": []
  },
  {
   "cell_type": "raw",
   "id": "0c85524a",
   "metadata": {},
   "source": [
    "d) Åbn tekstfilen daen.txt for at tjekke indholdet - bemærk at tekstfilen er placeret i samme mappe som dette"
   ]
  },
  {
   "cell_type": "raw",
   "id": "282b7c49",
   "metadata": {},
   "source": [
    "e) Afprøv nedenfor funktionen hentDict(), men erstat først *** med den korrekte aktuelle "
   ]
  },
  {
   "cell_type": "code",
   "execution_count": 25,
   "id": "393ccfcc",
   "metadata": {},
   "outputs": [
    {
     "name": "stdout",
     "output_type": "stream",
     "text": [
      "Dictionary er indlæst fra filen:\n",
      "{\"('bord'\": \" 'table')\", \"('hvid'\": \" 'white')\", \"('bold'\": \" 'ball')\", \"('Hest'\": \" 'horse')\"}\n"
     ]
    }
   ],
   "source": [
    "hentDict('daenRune.txt')"
   ]
  }
 ],
 "metadata": {
  "kernelspec": {
   "display_name": "base",
   "language": "python",
   "name": "python3"
  },
  "language_info": {
   "codemirror_mode": {
    "name": "ipython",
    "version": 3
   },
   "file_extension": ".py",
   "mimetype": "text/x-python",
   "name": "python",
   "nbconvert_exporter": "python",
   "pygments_lexer": "ipython3",
   "version": "3.13.5"
  }
 },
 "nbformat": 4,
 "nbformat_minor": 5
}
