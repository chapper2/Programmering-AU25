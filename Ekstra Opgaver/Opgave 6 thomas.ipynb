{
 "cells": [
  {
   "cell_type": "markdown",
   "id": "b599f363",
   "metadata": {},
   "source": [
    "## Tekstfiler"
   ]
  },
  {
   "cell_type": "raw",
   "id": "7b6f591a",
   "metadata": {},
   "source": [
    "a) Gennemgå nedenstående to pseudokoder"
   ]
  },
  {
   "cell_type": "raw",
   "id": "6a8d4265",
   "metadata": {},
   "source": [
    "pseudokoder\n",
    "\n",
    "gem et dictionary i en tekstfil\n",
    "    åbn en tekstfil, så der kan skrives i den\n",
    "        for hvert par af nøgle og værdi i dictionary\n",
    "           skriv i tekstfilen nøgle efterfulgt af værdi med et kolon imellem\n",
    "    udskriv at dictionary er gemt i tekstfilen\n",
    "    \n",
    "hent et dictionary fra en tekstfil\n",
    "    lav et tomt dictionary\n",
    "    åbn en tekstfil, så der kan læses i den\n",
    "        for hver linje i tekstfilen\n",
    "            del linjen op i to variable nøgle og værdi adskilt af kolon\n",
    "            tilføj parret af nøgle og værdi til dictionary\n",
    "    udskriv, at dictionary er hentet fra tekstfilen\n",
    "    udskriv dictionary"
   ]
  },
  {
   "cell_type": "raw",
   "id": "54fc1261",
   "metadata": {},
   "source": [
    "b) Indsæt korrekte koder og passende kommentarer, hvor der står ***, men læs lige først:\n",
    "- bemærk, at der er brugt en f-streng med \\n til sidst, hvilket medfører, at der skiftes linje, når der er skrevet i tekstfilen\n",
    "- både strip() og split() er metoder knyttet til strenge (googl' eventuelt)"
   ]
  },
  {
   "cell_type": "code",
   "execution_count": 18,
   "id": "25f18ef2",
   "metadata": {},
   "outputs": [],
   "source": [
    "def gemDict(dictionary, filnavn):\n",
    "    with open(filnavn, 'w') as fil: # åbne filen af navnet filnavn og gør den skrivbar\n",
    "        for x, y in dictionary.items():\n",
    "            fil.write(f'{x,y}\\n')  # skriv i filen\n",
    "    print('Dictionary er gemt i filen')\n",
    "\n",
    "def hentDict(filnavn):\n",
    "    dictionary = {}\n",
    "    with open(filnavn, 'r') as fil:  # henter fil\n",
    "        for linje in fil:\n",
    "            x, y = linje.strip().split(\",\")  # ***\n",
    "            dictionary[x] = y;  # tilføj parret til \n",
    "    print('Dictionary er indlæst fra filen:')\n",
    "    print(dictionary)"
   ]
  },
  {
   "cell_type": "raw",
   "id": "e15d63ee",
   "metadata": {},
   "source": [
    "c) Afprøv nedenfor funktionen gemDict(), men erstat *** med den korrekte aktuelle parameter"
   ]
  },
  {
   "cell_type": "code",
   "execution_count": 19,
   "id": "26c1068e",
   "metadata": {},
   "outputs": [
    {
     "name": "stdout",
     "output_type": "stream",
     "text": [
      "Dictionary er gemt i filen\n"
     ]
    }
   ],
   "source": [
    "danskEngelsk = {'bord': 'table', 'hvid': 'white', 'bold': 'ball'}\n",
    "\n",
    "gemDict(danskEngelsk, 'daen.txt')"
   ]
  },
  {
   "cell_type": "raw",
   "id": "0c85524a",
   "metadata": {},
   "source": [
    "d) Åbn tekstfilen daen.txt for at tjekke indholdet - bemærk at tekstfilen er placeret i samme mappe som dette"
   ]
  },
  {
   "cell_type": "raw",
   "id": "d31c191c",
   "metadata": {
    "vscode": {
     "languageId": "raw"
    }
   },
   "source": [
    "hentDict(danskEngelsk, 'daen.txt')"
   ]
  },
  {
   "cell_type": "raw",
   "id": "282b7c49",
   "metadata": {},
   "source": [
    "e) Afprøv nedenfor funktionen hentDict(), men erstat først *** med den korrekte aktuelle "
   ]
  },
  {
   "cell_type": "code",
   "execution_count": 20,
   "id": "393ccfcc",
   "metadata": {},
   "outputs": [
    {
     "name": "stdout",
     "output_type": "stream",
     "text": [
      "Dictionary er indlæst fra filen:\n",
      "{\"('bord'\": \" 'table')\", \"('hvid'\": \" 'white')\", \"('bold'\": \" 'ball')\"}\n"
     ]
    }
   ],
   "source": [
    "hentDict('daen.txt')"
   ]
  }
 ],
 "metadata": {
  "kernelspec": {
   "display_name": "Python 3",
   "language": "python",
   "name": "python3"
  },
  "language_info": {
   "codemirror_mode": {
    "name": "ipython",
    "version": 3
   },
   "file_extension": ".py",
   "mimetype": "text/x-python",
   "name": "python",
   "nbconvert_exporter": "python",
   "pygments_lexer": "ipython3",
   "version": "3.13.7"
  }
 },
 "nbformat": 4,
 "nbformat_minor": 5
}
