{
 "cells": [
  {
   "cell_type": "markdown",
   "id": "40021bdd",
   "metadata": {},
   "source": [
    "Opgave 3 - Forskellige niveauer i computerspil\n",
    "\n",
    "I et computerspil opsamles points undervejs. På et tidspunkt stopper spillet, og man kan ikke vide præcist, hvornår det sker.\n",
    "\n",
    "Man kan herefter fortsætte spillet på et højere niveau, hvis man har tilstrækkeligt med points, ellers må man fortsætte på samme niveau for at træne ens spillefærdigheder.\n",
    "\n",
    "Anvend computationel tankegang til at lave pseudokode, Scratch- og Python-koder, der afgør, om spilleren stiger i niveau eller må fortsætte i samme niveau.\n",
    "\n",
    "Skriv undervejs ned, hvordan de fire grundpiller i computationel tankegang bruges\n",
    "\n",
    "    Dekomposition\n",
    "    Abstraktion\n",
    "    Mønstergenkendelse\n",
    "    Algoritmisk tankegang\n"
   ]
  },
  {
   "cell_type": "markdown",
   "id": "0d8589a3",
   "metadata": {},
   "source": [
    "#### Dekomposition\n",
    "\n",
    "Spillet indeholder overordnet flere niveauer, og hvert niveau har et point krav som skal opfyldes for at få lov til \n",
    "at komme til niveauet. Der skal sættes en tilfældig timer for niveauet som definere hvor lang tid man har til niveauet.\n",
    "\n",
    "\n",
    "\n",
    "\n",
    "\n"
   ]
  },
  {
   "cell_type": "markdown",
   "id": "d5ec4ec3",
   "metadata": {},
   "source": [
    "#### Pseudokode\n",
    "\n",
    "\n",
    "hvis tid er gået\n",
    "    hvis pointOpsamlet lig med eller større end pointKrav\n",
    "        øg level med 1\n",
    "        sæt pointKrav til 2*tidGået*level\n",
    "        sæt tilfældig tid\n",
    "        \n",
    "\n",
    "\n"
   ]
  },
  {
   "cell_type": "code",
   "execution_count": null,
   "id": "d93be16a",
   "metadata": {},
   "outputs": [],
   "source": [
    "import random\n",
    "import time\n",
    "\n",
    "def erDuGodNok():\n",
    "    print('Hvad hedder du?')\n",
    "    spillerNavn = input()\n",
    "    score = 100\n",
    "    niveau = 1\n",
    "    timer = random.randint(30, 40)\n",
    "    niveauPointKrav = niveau^2*timer\n",
    "    #startTime = time.time()\n",
    "    #endTime = time.time()+timer\n",
    "    \n",
    "    \n",
    "    \n",
    "    \n",
    "    if timer == 0:\n",
    "        if score < niveauPointKrav:\n",
    "            timer = random.randint(30, 40)\n",
    "        else:\n",
    "            valg = input('Du har nok point, vil du til næste niveau? Y/N')\n",
    "            if valg == 'Y':\n",
    "                niveau += 1\n",
    "                timer = random.randint(30, 40)\n",
    "            elif valg == 'N':\n",
    "                print(spillerNavn+' har afsluttet spillet med: '+score+ ' point')\n",
    "            \n",
    "                \n",
    "                \n",
    "            \n",
    "    \n"
   ]
  }
 ],
 "metadata": {
  "kernelspec": {
   "display_name": "base",
   "language": "python",
   "name": "python3"
  },
  "language_info": {
   "name": "python",
   "version": "3.13.5"
  }
 },
 "nbformat": 4,
 "nbformat_minor": 5
}
