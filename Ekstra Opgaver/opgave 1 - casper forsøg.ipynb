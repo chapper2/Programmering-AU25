{
 "cells": [
  {
   "cell_type": "markdown",
   "id": "a066fc29",
   "metadata": {},
   "source": [
    "Opgaven går ud på at indlæse en tekst, hvorefter der bliver genereret en ny tekst, hvor alle vokaler er udskiftet med en given vokal - som vi kender fra sangen 'Tre små kinesere på...'\n",
    "\n",
    "Lav først en pseudokode og herefter implementeringen i Python og/eller Scratch"
   ]
  },
  {
   "cell_type": "markdown",
   "id": "0f7974b6",
   "metadata": {},
   "source": [
    "Pseudokode til opgaven\n",
    "\n",
    "Bruger indtaster en streng som man gerne vil have byttet vokaler om i samt hvilken vokal der skal indsættes\n",
    "lokal variabel vokaler lig med alle vokaler i det engelske alfabet(danske?)\n",
    "for hvert tegn i strengen\n",
    "    hvis tegn er i vokaler\n",
    "       sæt tegn til at være valgte vokal\n",
    "print strengen \n"
   ]
  },
  {
   "cell_type": "code",
   "execution_count": 5,
   "id": "6fe5ddac",
   "metadata": {},
   "outputs": [
    {
     "name": "stdout",
     "output_type": "stream",
     "text": [
      "Tri smi kinisiri pi\n"
     ]
    }
   ],
   "source": [
    "def vokalByt(streng, vokal):\n",
    "    vokaler ='AEYUIOÆØÅaeyuioæøå'\n",
    "    byttet = ''\n",
    "    for ch in streng:\n",
    "        if ch in vokaler:\n",
    "            byttet += vokal\n",
    "        else:\n",
    "            byttet += ch\n",
    "    print (byttet)\n",
    "    \n",
    "    \n",
    "vokalByt('Tre små kinesere på','i')"
   ]
  }
 ],
 "metadata": {
  "kernelspec": {
   "display_name": ".venv",
   "language": "python",
   "name": "python3"
  },
  "language_info": {
   "codemirror_mode": {
    "name": "ipython",
    "version": 3
   },
   "file_extension": ".py",
   "mimetype": "text/x-python",
   "name": "python",
   "nbconvert_exporter": "python",
   "pygments_lexer": "ipython3",
   "version": "3.11.9"
  }
 },
 "nbformat": 4,
 "nbformat_minor": 5
}
