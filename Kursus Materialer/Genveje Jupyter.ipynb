{
 "cells": [
  {
   "cell_type": "markdown",
   "id": "8e479fff",
   "metadata": {},
   "source": [
    "# Command Mode\n",
    "### <span style=\"color:blue\">blå</span> venstrekant\n",
    "\n",
    "| Tastatur | Virkning |\n",
    "| :----------- | :----------- |\n",
    "| Enter | skifter til edit mode |\n",
    "| Shift+Enter | kører cellen og gør cellen nedenunder aktiv |\n",
    "| Ctrl+Enter | kører cellen, som forbliver aktiv |\n",
    "| y | skifter celletype til Code |\n",
    "| m | skifter celletype til Markdown |\n",
    "| r | skifter celletype til Raw |\n",
    "| a | indsætter en tom celle ovenfor (above) |\n",
    "| b | indsætter en tom celle nedenfor (below) |\n",
    "| c | kopierer cellen |\n",
    "| v | indsætter den kopierede cellen |\n",
    "| d, d | sletter cellen |\n",
    "\n",
    "---"
   ]
  },
  {
   "cell_type": "markdown",
   "id": "ae03335f",
   "metadata": {},
   "source": [
    "# Edit Mode\n",
    "### <span style=\"color:green\">grøn</span> venstrekant\n",
    "\n",
    "| Tastatur | Virkning |\n",
    "| :----------- | :----------- |\n",
    "| Esc | skifter til command mode |\n"
   ]
  },
  {
   "cell_type": "markdown",
   "id": "c47a3786",
   "metadata": {},
   "source": [
    "## celletype Code i Edit Mode\n",
    "skriv Python-kode - se eksempel i næste celle\n"
   ]
  },
  {
   "cell_type": "code",
   "execution_count": 1,
   "id": "610ec64b",
   "metadata": {},
   "outputs": [
    {
     "name": "stdout",
     "output_type": "stream",
     "text": [
      "Arealet er:  20\n"
     ]
    }
   ],
   "source": [
    "# et eksempel på Python-kode\n",
    "\n",
    "bredde = 5\n",
    "hoejde = 4\n",
    "areal = bredde * hoejde\n",
    "print('Arealet er: ', areal)"
   ]
  },
  {
   "cell_type": "markdown",
   "id": "27519e1b",
   "metadata": {},
   "source": [
    "## celletype Raw i Edit Mode\n",
    "skriv rå og uformateret tekst - se eksempel i næste celle\n"
   ]
  },
  {
   "cell_type": "raw",
   "id": "0e2c91e6",
   "metadata": {},
   "source": [
    "pseudokode\n",
    "\n",
    "sæt bredde lig med 5\n",
    "sæt højde lig med 4\n",
    "sæt areal lig med bredde ganget med højde\n",
    "udskriv areal"
   ]
  },
  {
   "cell_type": "markdown",
   "id": "23e6b12d",
   "metadata": {},
   "source": [
    "## celletype Markdown i Edit Mode\n",
    "\n",
    "skriv formateret tekst og indsæt billeder og links - se eksempler i næste celle"
   ]
  },
  {
   "attachments": {
    "image-2.png": {
     "image/png": "[encoded data removed]"
    }
   },
   "cell_type": "markdown",
   "id": "b8595060",
   "metadata": {},
   "source": [
    "### Overskrifter\n",
    "\n",
    "Nedenfor ses 4 forskellige overskrifter\n",
    "\n",
    "# Overskrift 1\n",
    "## Overskrift 2\n",
    "### Overskrift 3\n",
    "#### Overskrift 4\n",
    "\n",
    "___\n",
    "### Fed\n",
    "\n",
    "Sådan laver man **fed skrift**\n",
    "\n",
    "---\n",
    "### Kursiv\n",
    "\n",
    "Sådan laver man *kursiv skrift*\n",
    "\n",
    "___\n",
    "### Ordnede lister\n",
    "\n",
    "1. Første enhed\n",
    "2. Anden enhed\n",
    "3. Tredje enhed\n",
    "\n",
    "### Uordnede lister (bullets)\n",
    "\n",
    "- Første enhed\n",
    "- Anden enhed\n",
    "- Tredje enhed\n",
    "___\n",
    "### Link\n",
    "\n",
    "[Masteruddannelsen i informatikundervisning](https://www.au.dk/evu/nat-tech/master/informatikundervisning)\n",
    "\n",
    "___\n",
    "### Billede\n",
    "\n",
    "Billede placeret samme sted som Jupyter-dokumentet\n",
    "![Jupyter logo](Jupyter_logo.png)\n",
    "\n",
    "Billede kopieret ind\n",
    "![Python logo](attachment:image-2.png)\n",
    "\n",
    "___\n",
    "### Tabel\n",
    "\n",
    "| Navn | Alder |\n",
    "| :----------- | :-----------: |\n",
    "| Peter | 27 |\n",
    "| Marie | 19 |\n",
    "| Jens | 25 |\n",
    "| Ida | 24 |\n",
    "\n",
    "___\n",
    "### Farvet tekst\n",
    "\n",
    "Et eksempel på, hvordan tekst skrives med <span style=\"color:red\">rød</span> - lidt smart"
   ]
  }
 ],
 "metadata": {
  "kernelspec": {
   "display_name": "Python 3 (ipykernel)",
   "language": "python",
   "name": "python3"
  },
  "language_info": {
   "codemirror_mode": {
    "name": "ipython",
    "version": 3
   },
   "file_extension": ".py",
   "mimetype": "text/x-python",
   "name": "python",
   "nbconvert_exporter": "python",
   "pygments_lexer": "ipython3",
   "version": "3.11.5"
  }
 },
 "nbformat": 4,
 "nbformat_minor": 5
}
