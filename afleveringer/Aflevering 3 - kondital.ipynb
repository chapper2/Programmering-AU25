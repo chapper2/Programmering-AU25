{
 "cells": [
  {
   "cell_type": "markdown",
   "id": "56da8c23",
   "metadata": {},
   "source": [
    "Torsdag 23. oktober\n",
    "\n",
    "#### Opgave\n",
    "\n",
    "Coopers testen er en løbetest, hvor man løber så langt som muligt på 12 minutter for at vurdere ens kondition. Testen måler ikke direkte iltoptagelsen, men bruges til at beregne ens kondital (VO2 max), der angiver, hvor effektivt kroppen kan optage ilt, hvilket er en god indikator for udholdenhed.\n",
    "\n",
    "Der gælder følgende formel til beregning af konditallet ud fra en Coopers test\n",
    "\n",
    "VO2 max = (afstanden løbet i meter - 504,9) / 44,73\n",
    "\n",
    "En klasse har gennemført Coopers testen i en idrætstime, og I skal lave pseudokode, Scratch- og Python-koder til beregning af klassens gennemsnitlige kondital\n",
    "\n",
    "Besvarelsen af denne aflevering skal indeholde\n",
    "\n",
    "    Redegørelse for brugen af grundpillerne i Computationel tankegang\n",
    "        Dekomposition\n",
    "        Abstraktion\n",
    "        Mønstergenkendelse\n",
    "        Algoritmisk tankegang\n",
    "    Pseudokode, Scratch-kode og Python-kode til bestemmelse af gennemsnittet af konditallet i klassen\n",
    "    I Python skal der laves en funktion, der bestemmer konditallet ud fra afstanden løbet i meter\n",
    "    Som en mulig ekstra opgave kan I lave en vurdering af klassens gennemsnitlige kondital\n",
    "\n",
    "Bemærk, at det er intensionen, at idrætslæreren skal kunne bruge programmet til sine øvrige klasser\n"
   ]
  },
  {
   "cell_type": "raw",
   "id": "276ecdcb",
   "metadata": {
    "vscode": {
     "languageId": "raw"
    }
   },
   "source": [
    "Pseudo kode\n",
    "\n",
    "metode til kondital\n",
    "\n",
    "opret sum og tildel værdien 0\n",
    "spørg efter antal elever og opret elevliste med længden antal elever med nuller\n",
    "gennemløber listen for hvert element\n",
    "    for elev i listen spørges læren om afstand    \n",
    "    udregnkondital for elev\n",
    "    hver kondital tillægges sum\n",
    "returner gennemsnit som sum delt med længden af listen\n",
    "    \n",
    "\n"
   ]
  },
  {
   "cell_type": "code",
   "execution_count": null,
   "id": "15fe79ed",
   "metadata": {},
   "outputs": [],
   "source": [
    "\n",
    "def Kondital():\n",
    "    sum = 0   #opret sum og tildel værdien 0\n",
    "    #spørg efter antal elever og opret elevliste med længden antal elever med nuller\n",
    "    elevListe = [0]*int(input('Hvor mange elever er der i din klasse')) \n",
    "    \n",
    "    for i in range(0,len(elevListe)): #gennemløber listen for hvert element\n",
    "        elevListe[i] = float(input('hvor langt har eleven løbet i meter?')) #for elev i listen spørges læren om afstand     \n",
    "        elevListe[i] = (elevListe[i]-504.9)/44.73 #udregnkondital for elev\n",
    "        sum += elevListe[i]  #hver kondital tillægges sum    \n",
    "    \n",
    "    return sum/len(elevListe)  #returner gennemsnit som sum delt med længden af listen\n",
    "\n",
    "\n",
    "    "
   ]
  },
  {
   "cell_type": "code",
   "execution_count": 14,
   "id": "c97fa1e5",
   "metadata": {},
   "outputs": [
    {
     "name": "stdout",
     "output_type": "stream",
     "text": [
      "[0, 0]\n",
      "[60.25262687234518, 0]\n",
      "[60.25262687234518, 62.48826291079813]\n",
      "122.7408897831433\n"
     ]
    },
    {
     "data": {
      "text/plain": [
       "61.37044489157165"
      ]
     },
     "execution_count": 14,
     "metadata": {},
     "output_type": "execute_result"
    }
   ],
   "source": [
    "Kondital()"
   ]
  }
 ],
 "metadata": {
  "kernelspec": {
   "display_name": "Python 3",
   "language": "python",
   "name": "python3"
  },
  "language_info": {
   "codemirror_mode": {
    "name": "ipython",
    "version": 3
   },
   "file_extension": ".py",
   "mimetype": "text/x-python",
   "name": "python",
   "nbconvert_exporter": "python",
   "pygments_lexer": "ipython3",
   "version": "3.13.7"
  }
 },
 "nbformat": 4,
 "nbformat_minor": 5
}
