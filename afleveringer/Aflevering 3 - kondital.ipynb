{
 "cells": [
  {
   "cell_type": "markdown",
   "id": "56da8c23",
   "metadata": {},
   "source": [
    "Torsdag 23. oktober\n",
    "\n",
    "#### Opgave\n",
    "\n",
    "Coopers testen er en løbetest, hvor man løber så langt som muligt på 12 minutter for at vurdere ens kondition. Testen måler ikke direkte iltoptagelsen, men bruges til at beregne ens kondital (VO2 max), der angiver, hvor effektivt kroppen kan optage ilt, hvilket er en god indikator for udholdenhed.\n",
    "\n",
    "Der gælder følgende formel til beregning af konditallet ud fra en Coopers test\n",
    "\n",
    "VO2 max = (afstanden løbet i meter - 504,9) / 44,73\n",
    "\n",
    "En klasse har gennemført Coopers testen i en idrætstime, og I skal lave pseudokode, Scratch- og Python-koder til beregning af klassens gennemsnitlige kondital\n",
    "\n",
    "Besvarelsen af denne aflevering skal indeholde\n",
    "\n",
    "    Redegørelse for brugen af grundpillerne i Computationel tankegang\n",
    "        Dekomposition\n",
    "        Abstraktion\n",
    "        Mønstergenkendelse\n",
    "        Algoritmisk tankegang\n",
    "    Pseudokode, Scratch-kode og Python-kode til bestemmelse af gennemsnittet af konditallet i klassen\n",
    "    I Python skal der laves en funktion, der bestemmer konditallet ud fra afstanden løbet i meter\n",
    "    Som en mulig ekstra opgave kan I lave en vurdering af klassens gennemsnitlige kondital\n",
    "\n",
    "Bemærk, at det er intensionen, at idrætslæreren skal kunne bruge programmet til sine øvrige klasser\n"
   ]
  },
  {
   "cell_type": "code",
   "execution_count": null,
   "id": "15fe79ed",
   "metadata": {
    "vscode": {
     "languageId": "plaintext"
    }
   },
   "outputs": [],
   "source": []
  }
 ],
 "metadata": {
  "language_info": {
   "name": "python"
  }
 },
 "nbformat": 4,
 "nbformat_minor": 5
}
