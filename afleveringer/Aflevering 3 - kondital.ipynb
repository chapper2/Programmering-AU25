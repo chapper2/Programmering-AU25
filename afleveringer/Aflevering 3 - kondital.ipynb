{
 "cells": [
  {
   "cell_type": "markdown",
   "id": "56da8c23",
   "metadata": {},
   "source": [
    "Torsdag 23. oktober\n",
    "\n",
    "#### Opgave\n",
    "\n",
    "Coopers testen er en løbetest, hvor man løber så langt som muligt på 12 minutter for at vurdere ens kondition. Testen måler ikke direkte iltoptagelsen, men bruges til at beregne ens kondital (VO2 max), der angiver, hvor effektivt kroppen kan optage ilt, hvilket er en god indikator for udholdenhed.\n",
    "\n",
    "Der gælder følgende formel til beregning af konditallet ud fra en Coopers test\n",
    "\n",
    "VO2 max = (afstanden løbet i meter - 504,9) / 44,73\n",
    "\n",
    "En klasse har gennemført Coopers testen i en idrætstime, og I skal lave pseudokode, Scratch- og Python-koder til beregning af klassens gennemsnitlige kondital\n",
    "\n",
    "Besvarelsen af denne aflevering skal indeholde\n",
    "\n",
    "    Redegørelse for brugen af grundpillerne i Computationel tankegang\n",
    "        Dekomposition\n",
    "        Abstraktion\n",
    "        Mønstergenkendelse\n",
    "        Algoritmisk tankegang\n",
    "    Pseudokode, Scratch-kode og Python-kode til bestemmelse af gennemsnittet af konditallet i klassen\n",
    "    I Python skal der laves en funktion, der bestemmer konditallet ud fra afstanden løbet i meter\n",
    "    Som en mulig ekstra opgave kan I lave en vurdering af klassens gennemsnitlige kondital\n",
    "\n",
    "Bemærk, at det er intensionen, at idrætslæreren skal kunne bruge programmet til sine øvrige klasser\n"
   ]
  },
  {
   "cell_type": "markdown",
   "id": "e20450a1",
   "metadata": {},
   "source": [
    "Vores overordnede mål er at designe et program som kan beregne det gennemsnitlige kondital\n",
    "\n",
    "Vi er nød til at bryde programmet ned i følgende enkelt dele.\n",
    "\n",
    "1) Vi skal oprette en elevListe, som skal kunne tage et input fra brugeren\n",
    "2) Vi skal skrive den enkelte elevs løbet distance til listen\n",
    "3) vi skal bruge den enkelte elevs løbet distance til at beregne konditallet ud fra en given formel\n",
    "4) vi skal samle alle elevernes kondital i en sum\n",
    "5) vi skal beregne gennemsnittet udfra antal elever og den tilskrevne sum.\n",
    "\n",
    "Når vi ser på projektet generelt, kan vi se det er vigtigt at bryde problemet ned i hvad der skal kører inde i løkken, og udenfor løkken. For at gøre programmet så generelt som muligt, vælger vi her dynamisk at oprette en liste som passer til lærerens hold. Dette gør at den fungere til både 1 elev og \"indsæt tal her\" elever. Herefter benytter vi faktisk denne liste til at resten af funktionerne, da listen oprettes med int 0 på alle index skal vi nu indsætte deres løbede distance på index enkeltvis.\n",
    "\n",
    "Så snart læreren har indskrevet de løbede distancer for antallet af elever, tager vores funktion nu og udregner konditallet baseret på værdien på hver eneste plads der er i listen, vi erstatter igen den løbede distance med konditallet, og lægger værdien for konditallet til sum.\n",
    "\n",
    "Så snart vores for løkke har gennemløbet listens længde, bryder vi ud af løkken, og det vi vælger at returnere er vores variabel sum delt med længden af listen, hvilket vil være gennemsnittet uanset hvor lang en liste vi opretter."
   ]
  },
  {
   "cell_type": "raw",
   "id": "276ecdcb",
   "metadata": {
    "vscode": {
     "languageId": "raw"
    }
   },
   "source": [
    "Pseudo kode\n",
    "\n",
    "metode til kondital\n",
    "\n",
    "opret sum og tildel værdien 0\n",
    "spørg efter antal elever og opret elevliste med længden antal elever med nuller\n",
    "gennemløber listen for hvert element\n",
    "    for elev i listen spørges læren om afstand    \n",
    "    udregnkondital for elev\n",
    "    hver kondital tillægges sum\n",
    "returner gennemsnit som sum delt med længden af listen\n",
    "    \n",
    "\n"
   ]
  },
  {
   "cell_type": "code",
   "execution_count": null,
   "id": "15fe79ed",
   "metadata": {},
   "outputs": [],
   "source": [
    "\n",
    "def Kondital():\n",
    "    sum = 0   #opret sum og tildel værdien 0\n",
    "    #spørg efter antal elever og opret elevliste med længden antal elever med nuller\n",
    "    elevListe = [0]*int(input('Hvor mange elever er der i din klasse')) \n",
    "    \n",
    "    for i in range(0,len(elevListe)): #gennemløber listen for hvert element\n",
    "        elevListe[i] = float(input('hvor langt har eleven løbet i meter?')) #for elev i listen spørges læren om afstand     \n",
    "        elevListe[i] = (elevListe[i]-504.9)/44.73 #udregnkondital for elev\n",
    "        sum += elevListe[i]  #hver kondital tillægges sum    \n",
    "    \n",
    "    return sum/len(elevListe)  #returner gennemsnit som sum delt med længden af listen\n",
    "\n",
    "\n",
    "    "
   ]
  },
  {
   "cell_type": "code",
   "execution_count": null,
   "id": "c97fa1e5",
   "metadata": {},
   "outputs": [],
   "source": [
    "Kondital()"
   ]
  },
  {
   "cell_type": "raw",
   "id": "85daea4b",
   "metadata": {
    "vscode": {
     "languageId": "raw"
    }
   },
   "source": [
    "link til scratch code\n",
    "\n",
    "https://scratch.mit.edu/projects/1224147176\n",
    "\n",
    "https://scratch.mit.edu/projects/1224137427"
   ]
  }
 ],
 "metadata": {
  "kernelspec": {
   "display_name": "base",
   "language": "python",
   "name": "python3"
  },
  "language_info": {
   "codemirror_mode": {
    "name": "ipython",
    "version": 3
   },
   "file_extension": ".py",
   "mimetype": "text/x-python",
   "name": "python",
   "nbconvert_exporter": "python",
   "pygments_lexer": "ipython3",
   "version": "3.13.5"
  }
 },
 "nbformat": 4,
 "nbformat_minor": 5
}
