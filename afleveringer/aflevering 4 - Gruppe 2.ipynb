{
 "cells": [
  {
   "cell_type": "raw",
   "id": "80905767",
   "metadata": {
    "vscode": {
     "languageId": "raw"
    }
   },
   "source": [
    "I skal i denne aflevering bygge videre på Aflevering 1 om Studenterrejsen\n",
    "\n",
    "I denne opgave går det ud på at lave en oversigt over gaverne - og det vil sige alle gaver (ikke kun pengegaverne) - samt oversigt over, hvem der har givet de enkelte gaver\n",
    "\n",
    "Opgave 1\n",
    "I skal lave et Scratch-projekt og et Python-program, der benytter sig af to lister:\n",
    "    Personer: Mor og far, Mormor, Onkel Peter, ...\n",
    "    Gaver: 500 kr, Tur til København, 200 kr, ...\n",
    "hvor indeksene i de to lister stemmer overens\n",
    "Benyt pseudokode og computationel tankegang i nødvendigt omfang, men tilføj under alle omstændigheder passende kommentarer undervejs\n",
    "\n",
    "Opgave 2\n",
    "Nu skal I modificere Python-programmet, så det bruger et dictionary i stedet for to lister\n",
    "\n",
    "Opgave 3\n",
    "Endelig skal I udbygge jeres Python-program, så jeres dictionary gemmes i en tekstfil "
   ]
  },
  {
   "cell_type": "code",
   "execution_count": null,
   "id": "719a183f",
   "metadata": {},
   "outputs": [],
   "source": [
    "personer = ['Mor og Far', 'Mormor', 'Onkel Peter', 'Tante Jytte']"
   ]
  }
 ],
 "metadata": {
  "language_info": {
   "name": "python"
  }
 },
 "nbformat": 4,
 "nbformat_minor": 5
}
