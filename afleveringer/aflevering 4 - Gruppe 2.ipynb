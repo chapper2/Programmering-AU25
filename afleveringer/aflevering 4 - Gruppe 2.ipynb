{
 "cells": [
  {
   "cell_type": "raw",
   "id": "80905767",
   "metadata": {
    "vscode": {
     "languageId": "raw"
    }
   },
   "source": [
    "I skal i denne aflevering bygge videre på Aflevering 1 om Studenterrejsen\n",
    "\n",
    "I denne opgave går det ud på at lave en oversigt over gaverne - og det vil sige alle gaver (ikke kun pengegaverne) - samt oversigt over, hvem der har givet de enkelte gaver\n",
    "\n",
    "Opgave 1\n",
    "I skal lave et Scratch-projekt og et Python-program, der benytter sig af to lister:\n",
    "    Personer: Mor og far, Mormor, Onkel Peter, ...\n",
    "    Gaver: 500 kr, Tur til København, 200 kr, ...\n",
    "hvor indeksene i de to lister stemmer overens\n",
    "Benyt pseudokode og computationel tankegang i nødvendigt omfang, men tilføj under alle omstændigheder passende kommentarer undervejs\n",
    "\n",
    "Opgave 2\n",
    "Nu skal I modificere Python-programmet, så det bruger et dictionary i stedet for to lister\n",
    "\n",
    "Opgave 3\n",
    "Endelig skal I udbygge jeres Python-program, så jeres dictionary gemmes i en tekstfil "
   ]
  },
  {
   "cell_type": "code",
   "execution_count": null,
   "id": "719a183f",
   "metadata": {},
   "outputs": [],
   "source": [
    "personer = ['Mor og Far', 'Mormor', 'Onkel Peter', 'Tante Jytte', 'Fars Elskerinde']\n",
    "Gaver = ['500kr', 'Tur til KBH', '200kr', ['Lego: Den sorte diamant', 'Lego: Botanicals', 'Lego: Minions'], 'Undskyldning']\n"
   ]
  },
  {
   "cell_type": "code",
   "execution_count": null,
   "id": "9939c4b7",
   "metadata": {},
   "outputs": [],
   "source": [
    "def gaveOversigt():\n",
    "    "
   ]
  },
  {
   "cell_type": "markdown",
   "id": "7597ea1a",
   "metadata": {},
   "source": [
    "https://scratch.mit.edu/projects/1235874448\n",
    "\n",
    "Link til projektet i Scratch"
   ]
  }
 ],
 "metadata": {
  "language_info": {
   "name": "python"
  }
 },
 "nbformat": 4,
 "nbformat_minor": 5
}
