{
 "cells": [
  {
   "cell_type": "raw",
   "id": "80905767",
   "metadata": {
    "vscode": {
     "languageId": "raw"
    }
   },
   "source": [
    "I skal i denne aflevering bygge videre på Aflevering 1 om Studenterrejsen\n",
    "\n",
    "I denne opgave går det ud på at lave en oversigt over gaverne - og det vil sige alle gaver (ikke kun pengegaverne) - samt oversigt over, hvem der har givet de enkelte gaver\n",
    "\n",
    "Opgave 1\n",
    "I skal lave et Scratch-projekt og et Python-program, der benytter sig af to lister:\n",
    "    Personer: Mor og far, Mormor, Onkel Peter, ...\n",
    "    Gaver: 500 kr, Tur til København, 200 kr, ...\n",
    "hvor indeksene i de to lister stemmer overens\n",
    "Benyt pseudokode og computationel tankegang i nødvendigt omfang, men tilføj under alle omstændigheder passende kommentarer undervejs\n",
    "\n",
    "Opgave 2\n",
    "Nu skal I modificere Python-programmet, så det bruger et dictionary i stedet for to lister\n",
    "\n",
    "Opgave 3\n",
    "Endelig skal I udbygge jeres Python-program, så jeres dictionary gemmes i en tekstfil "
   ]
  },
  {
   "cell_type": "code",
   "execution_count": 14,
   "id": "719a183f",
   "metadata": {},
   "outputs": [],
   "source": [
    "personer = ['Mor og Far', 'Mormor', 'Onkel Peter', 'Tante Jytte', 'Fars Elskerinde']\n",
    "Gaver = ['500kr', 'Tur til KBH', '200kr', 'Lego: Minions', 'En Undskyldning']\n"
   ]
  },
  {
   "cell_type": "code",
   "execution_count": 15,
   "id": "9939c4b7",
   "metadata": {},
   "outputs": [],
   "source": [
    "def gaveOversigt():\n",
    "    for i in range(len(personer)):\n",
    "        print(personer[i], 'har givet', Gaver[i])"
   ]
  },
  {
   "cell_type": "code",
   "execution_count": 16,
   "id": "ce3b253e",
   "metadata": {},
   "outputs": [
    {
     "name": "stdout",
     "output_type": "stream",
     "text": [
      "Mor og Far har givet 500kr\n",
      "Mormor har givet Tur til KBH\n",
      "Onkel Peter har givet 200kr\n",
      "Tante Jytte har givet Lego: Minions\n",
      "Fars Elskerinde har givet En Undskyldning\n"
     ]
    }
   ],
   "source": [
    "gaveOversigt()"
   ]
  },
  {
   "cell_type": "code",
   "execution_count": 17,
   "id": "03c356b7",
   "metadata": {},
   "outputs": [],
   "source": [
    "gaver = {'Mor og Far': \"500kr\", 'Mormor': 'Tur til KBH','Onkel Peter':'200kr', \n",
    "                'Tante Jytte':'Lego: Minions' , 'Fars Elskerinde':  'En Undskyldning'}"
   ]
  },
  {
   "cell_type": "code",
   "execution_count": 18,
   "id": "c3b68a7c",
   "metadata": {},
   "outputs": [],
   "source": [
    "def gaveOversigt():\n",
    "    for x, y in gaver.items():\n",
    "        print(x,\"har givet: \",y)\n",
    "\n"
   ]
  },
  {
   "cell_type": "code",
   "execution_count": 19,
   "id": "af9986dc",
   "metadata": {},
   "outputs": [
    {
     "name": "stdout",
     "output_type": "stream",
     "text": [
      "Mor og Far har givet:  500kr\n",
      "Mormor har givet:  Tur til KBH\n",
      "Onkel Peter har givet:  200kr\n",
      "Tante Jytte har givet:  Lego: Minions\n",
      "Fars Elskerinde har givet:  En Undskyldning\n"
     ]
    }
   ],
   "source": [
    "gaveOversigt()"
   ]
  },
  {
   "cell_type": "code",
   "execution_count": null,
   "id": "a4338bb0",
   "metadata": {},
   "outputs": [],
   "source": [
    "def gemDict(dictionary, filnavn):\n",
    "    with open(filnavn, 'w') as fil: # åbne filen af navnet filnavn og gør den skrivbar\n",
    "        for x, y in dictionary.items():\n",
    "            fil.write(f'{x,y}\\n')  # skriv i filen\n",
    "    print('Dictionary er gemt i filen')\n",
    "\n",
    "def hentDict(filnavn):\n",
    "    dictionary = {}\n",
    "    with open(filnavn, 'r') as fil:  # henter fil\n",
    "        for linje in fil:\n",
    "            x, y = linje.strip().split(\",\")  # ***\n",
    "            dictionary[x] = y;  # tilføj parret til \n",
    "    print('Dictionary er indlæst fra filen:')\n",
    "    print(dictionary)\n",
    "        "
   ]
  },
  {
   "cell_type": "code",
   "execution_count": 21,
   "id": "12c98127",
   "metadata": {},
   "outputs": [
    {
     "name": "stdout",
     "output_type": "stream",
     "text": [
      "Dictionary er gemt i filen\n"
     ]
    }
   ],
   "source": [
    "gemDict(gaver,\"gaver.txt\")\n"
   ]
  },
  {
   "cell_type": "code",
   "execution_count": 22,
   "id": "6234776e",
   "metadata": {},
   "outputs": [
    {
     "name": "stdout",
     "output_type": "stream",
     "text": [
      "Dictionary er indlæst fra filen:\n",
      "{\"('Mor og Far'\": \" '500kr')\", \"('Mormor'\": \" 'Tur til KBH')\", \"('Onkel Peter'\": \" '200kr')\", \"('Tante Jytte'\": \" 'Lego: Minions')\", \"('Fars Elskerinde'\": \" 'En Undskyldning')\"}\n"
     ]
    }
   ],
   "source": [
    "hentDict(\"gaver.txt\")"
   ]
  },
  {
   "cell_type": "code",
   "execution_count": null,
   "id": "b060a534",
   "metadata": {},
   "outputs": [],
   "source": []
  }
 ],
 "metadata": {
  "kernelspec": {
   "display_name": "Python 3",
   "language": "python",
   "name": "python3"
  },
  "language_info": {
   "codemirror_mode": {
    "name": "ipython",
    "version": 3
   },
   "file_extension": ".py",
   "mimetype": "text/x-python",
   "name": "python",
   "nbconvert_exporter": "python",
   "pygments_lexer": "ipython3",
   "version": "3.13.7"
  }
 },
 "nbformat": 4,
 "nbformat_minor": 5
}
