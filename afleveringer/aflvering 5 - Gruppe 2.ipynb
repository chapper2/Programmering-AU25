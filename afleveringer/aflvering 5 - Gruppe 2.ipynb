{
 "cells": [
  {
   "cell_type": "markdown",
   "id": "ae5c6454",
   "metadata": {},
   "source": [
    "I denne aflevering skal I udvikle et minigolf-projekt i Scratch, hvor I bruger den vigtige didaktiske metode Stepwise Improvement. Bemærk, at det slet ikke er afgørende, at I kommer helt i mål med projektet, men det er vigtig, at I trinvist udvikler projektet ud fra metoden\n",
    "\n",
    "I besvarelsen skal I gøre rede for de enkelte trin i udviklingen af projektet, herunder overvejelser i forhold til den computationelle tankegang\n",
    "\n",
    "Besvarelsen skal indeholde et link til den sidste version, men husk løbende at gemme versioner - det er jo en vigtig del af metoden\n",
    "\n",
    "Det handler i sidste ende om at lave et minigolf-projekt, hvor den hvide bold skal i hullet efter et antal slag, men der er nogle forhindringer - de gule blokke - hvor bolden bouncer. Bolden sættes i gang ved, at brugeren klikker med musen et sted på spillefladen, hvorefter retningen for bolden er bestemt, og jo længere museklikket er fra bolden, jo hurtigere ruller bolden. Samtidig skal boldens hastighed aftage efter, at den er sat i gang - ligesom i den virkelige verden. Men det er jo en beskrivelse af det ideelle og færdige projekt - start simpelt\n",
    "\n",
    "God fornøjelse :-)"
   ]
  }
 ],
 "metadata": {
  "language_info": {
   "name": "python"
  }
 },
 "nbformat": 4,
 "nbformat_minor": 5
}
