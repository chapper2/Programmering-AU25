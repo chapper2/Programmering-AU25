{
 "cells": [
  {
   "cell_type": "code",
   "execution_count": null,
   "id": "b771bdf6",
   "metadata": {},
   "outputs": [],
   "source": [
    "bredde = 5\n",
    "højde = 10\n",
    "\n",
    "def beregnAreal():\n",
    "    print(bredde*højde)"
   ]
  }
 ],
 "metadata": {
  "kernelspec": {
   "display_name": "base",
   "language": "python",
   "name": "python3"
  },
  "language_info": {
   "name": "python",
   "version": "3.13.5"
  }
 },
 "nbformat": 4,
 "nbformat_minor": 5
}
